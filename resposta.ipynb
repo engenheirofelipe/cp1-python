{
 "cells": [
  {
   "cell_type": "markdown",
   "metadata": {},
   "source": [
    " ## Ordenar a lista desordenada  em ordem crescente e decrescente e mostrar a quantidade de trocas. Usar Selection Sort"
   ]
  },
  {
   "cell_type": "code",
   "execution_count": 7,
   "metadata": {},
   "outputs": [
    {
     "name": "stdout",
     "output_type": "stream",
     "text": [
      " A lista ordenada crescente  é :  [1, 2, 4, 5, 6, 7, 8, 36]\n",
      " A quantidade de trocas é :  4\n",
      " A lista ordenada decrescente  é :  [36, 8, 7, 6, 5, 4, 2, 1]\n",
      " A quantidade de trocas é :  4\n"
     ]
    }
   ],
   "source": [
    "lista = [7,2,6,8,4,1,36,5] # Lista desordenada\n",
    "\n",
    "\n",
    "def selection_sort(lista, ordem='crescente'): # Declarando a função e adicionando o parâmetro ordem crescente como padrão\n",
    "\n",
    "    tamanho = range(0, len(lista) - 1) # Atribuindo o tamanho inteiro que será percorrido cada index. Desconsidera o último elemento  da sublista não ordenada.\n",
    "\n",
    "    quantidade_de_trocas = 0\n",
    "\n",
    "    for i in tamanho:\n",
    "        \n",
    "        minimo_maximo = i\n",
    "\n",
    "        for j in range(i +1, len(lista)): # Para todos os elementos  que estão  ao lado direito de i.\n",
    "\n",
    "            if ordem == 'crescente': # Se ordem for crescente, a lógica escolhe o valor mínimo\n",
    "    \n",
    "                if lista[j] < lista[minimo_maximo]: # Se o elemento que está sendo percorrido for menor que o minimo até então.\n",
    "\n",
    "                    minimo_maximo = j # J passa a ser o mínimo.\n",
    "\n",
    "            if ordem == 'decrescente': # Se a ordem for decrescente, a lógica escolhe o valor máximo\n",
    "    \n",
    "                if lista[j] > lista[minimo_maximo]: # Se o elemento que está sendo percorrido for maior que o minimo até então.\n",
    "\n",
    "                    minimo_maximo = j # J passa a ser o maximo\n",
    "\n",
    "\n",
    "        if minimo_maximo != i: # se encontrar um valor que seja menor ou maior  que valor inicial, ou default.\n",
    "\n",
    "            lista[minimo_maximo], lista[i] = lista[i], lista[minimo_maximo] #  faz a troca dos valores.\n",
    "\n",
    "            quantidade_de_trocas += 1\n",
    "\n",
    "    return lista, quantidade_de_trocas\n",
    "\n",
    "\n",
    "lista_ordenada_crescente, qtd_trocas_crescente = selection_sort(lista, ordem='crescente')  # Imprime a lista ordenada crescente\n",
    "print( \" A lista ordenada crescente  é : \", lista_ordenada_crescente)\n",
    "print( \" A quantidade de trocas é : \" , qtd_trocas_crescente)\n",
    "\n",
    "lista_ordenada_decrescente, qtd_trocas_decrescente = selection_sort(lista, ordem='decrescente')  # Imprime a lista ordenada decrescente\n",
    "print( \" A lista ordenada decrescente  é : \", lista_ordenada_decrescente)\n",
    "print( \" A quantidade de trocas é : \" , qtd_trocas_decrescente)\n",
    "    "
   ]
  },
  {
   "cell_type": "markdown",
   "metadata": {},
   "source": [
    " ## Ordenar a lista desordenada  em ordem crescente e decrescente e mostrar a quantidade de trocas. Usar Inserction"
   ]
  },
  {
   "cell_type": "code",
   "execution_count": 10,
   "metadata": {},
   "outputs": [
    {
     "name": "stdout",
     "output_type": "stream",
     "text": [
      " A lista ordenada crescente  é :  [1, 3, 4, 5, 6, 8, 9, 20, 26]\n",
      " A quantidade de trocas é :  15\n",
      " A lista ordenada decrescente  é :  [26, 20, 9, 8, 6, 5, 4, 3, 1]\n",
      " A quantidade de trocas é :  36\n"
     ]
    }
   ],
   "source": [
    "lista = [6,3,9,5,20,4,1,8,26]\n",
    "\n",
    "def insertion_sort(lista, ordem='crescente'):\n",
    "\n",
    "    tamanho = range(1, len(lista)) #  O primeiro item da parte não ordenada, já é um item da parte ordenada. Portanto não começa no  índice 0 e sim no índice 1\n",
    "\n",
    "    quantidade_de_trocas = 0\n",
    "\n",
    "    for i in tamanho: # Para todo valor no tamanho inteiro da  parte não ordenada\n",
    "\n",
    "        valor_a_ordenar = lista[i]  # O valor a ordenar é um indice da lista.\n",
    "\n",
    "\n",
    "        if ordem == 'crescente':\n",
    "     \n",
    "            while lista[i -1] > valor_a_ordenar and i > 0: # enquanto o valor que está na primeira posição  for maior que o valor que estamos tentando ordenar. O indice precisa ser positivo\n",
    "\n",
    "                lista[i], lista[i -1] = lista[i -1], lista[i] # Efetua a troca\n",
    "\n",
    "                i -= 1 # icrementar a lista, olhando para o próximo item\n",
    "\n",
    "                quantidade_de_trocas += 1\n",
    "\n",
    "        if ordem == 'decrescente':\n",
    "     \n",
    "            while lista[i -1] <  valor_a_ordenar and i > 0: # enquanto o valor que está na primeira posição  for menor que o valor que estamos tentando ordenar. O indice precisa ser positivo\n",
    "\n",
    "                lista[i], lista[i -1] = lista[i -1], lista[i] # Efetua a troca\n",
    "\n",
    "                i -= 1 # icrementar a lista, olhando para o próximo item\n",
    "\n",
    "                quantidade_de_trocas += 1\n",
    "\n",
    "    return lista,  quantidade_de_trocas\n",
    "\n",
    "lista_ordenada_crescente, qtd_trocas_crescente  = insertion_sort(lista, ordem='crescente')\n",
    "print( \" A lista ordenada crescente  é : \", lista_ordenada_crescente)\n",
    "print( \" A quantidade de trocas é : \" , qtd_trocas_crescente)\n",
    "\n",
    "lista_ordenada_decrescente, qtd_trocas_decrescente  = insertion_sort(lista, ordem='decrescente')\n",
    "print( \" A lista ordenada decrescente  é : \", lista_ordenada_decrescente)\n",
    "print( \" A quantidade de trocas é : \" , qtd_trocas_decrescente)"
   ]
  },
  {
   "cell_type": "markdown",
   "metadata": {},
   "source": [
    " ## Ordenar a lista desordenada  em ordem crescente e decrescente e mostrar a quantidade de trocas. Usar Bubble Sort"
   ]
  },
  {
   "cell_type": "code",
   "execution_count": 13,
   "metadata": {},
   "outputs": [
    {
     "name": "stdout",
     "output_type": "stream",
     "text": [
      " A lista ordenada crescente  é :  [2, 9, 45, 95, 100, 201, 365]\n",
      " A quantidade de trocas é :  5\n",
      " A lista ordenada decrescente  é :  [365, 201, 100, 95, 45, 9, 2]\n",
      " A quantidade de trocas é :  21\n"
     ]
    }
   ],
   "source": [
    "\n",
    "lista = [2,9,95,100,365,201,45]\n",
    "\n",
    "def bubble(lista, ordem='crescente'):\n",
    "\n",
    "    tamanho = len(lista) - 1  # Não pode considerar o útlimo número da lista\n",
    "\n",
    "    quantidade_de_trocas = 0\n",
    "\n",
    "    ordenado = False # Usa essa variável para parar o looping quando a lista já estiver ordenada\n",
    "\n",
    "    while not ordenado: \n",
    "\n",
    "        ordenado = True\n",
    "\n",
    "        for i in range(0, tamanho):  \n",
    "                \n",
    "            if ordem == 'crescente':\n",
    " \n",
    "                if lista[i]  > lista[i +1]: # se o elemento da esquerda for menor que o elemento da direita.\n",
    "\n",
    "                    ordenado = False # não está ordenado\n",
    "\n",
    "                    lista[i], lista[i +1] = lista[i +1], lista[i] # EEntão faça a troca.\n",
    "\n",
    "                    quantidade_de_trocas += 1\n",
    "            \n",
    "            if ordem == 'decrescente':\n",
    "\n",
    "                if lista[i]  < lista[i +1]: # se o elemento da esquerda for menor que o elemento da direita.\n",
    "\n",
    "                    ordenado = False # não está ordenado\n",
    "\n",
    "                    lista[i], lista[i +1] = lista[i +1], lista[i] # EEntão faça a troca.\n",
    "\n",
    "                    quantidade_de_trocas += 1\n",
    "\n",
    "    return lista, quantidade_de_trocas\n",
    "\n",
    "lista_ordenada_crescente, qtd_trocas_crescente  = bubble(lista, ordem='crescente')\n",
    "print( \" A lista ordenada crescente  é : \", lista_ordenada_crescente)\n",
    "print( \" A quantidade de trocas é : \" , qtd_trocas_crescente)\n",
    "\n",
    "lista_ordenada_decrescente, qtd_trocas_decrescente  = bubble(lista, ordem='decrescente')\n",
    "print( \" A lista ordenada decrescente  é : \", lista_ordenada_decrescente)\n",
    "print( \" A quantidade de trocas é : \" , qtd_trocas_decrescente)\n"
   ]
  },
  {
   "cell_type": "markdown",
   "metadata": {},
   "source": [
    "## Relatório \n",
    "\n",
    "### Para Selection Sort :\n",
    "\n",
    "\n",
    "#### lista desordenada : [7,2,6,8,4,1,36,5]\n",
    "* A lista ordenada crescente  é :  [1, 2, 4, 5, 6, 7, 8, 36]\n",
    "* A quantidade de trocas é :  4\n",
    "* A lista ordenada decrescente  é :  [36, 8, 7, 6, 5, 4, 2, 1]\n",
    "* A quantidade de trocas é :  4\n",
    "\n",
    "### Para Inserction Sort : \n",
    "\n",
    "#### lista desordenada : [6,3,9,5,20,4,1,8,26]\n",
    "* A lista ordenada crescente  é :  [1, 3, 4, 5, 6, 8, 9, 20, 26]\n",
    "* A quantidade de trocas é :  15\n",
    "* A lista ordenada decrescente  é :  [26, 20, 9, 8, 6, 5, 4, 3, 1]\n",
    "* A quantidade de trocas é :  36\n",
    "\n",
    "### Para bubble sort : \n",
    "\n",
    "#### lista desordenada : [2,9,95,100,365,201,45]\n",
    "\n",
    "* A lista ordenada crescente  é :  [2, 9, 45, 95, 100, 201, 365]\n",
    "* A quantidade de trocas é :  5\n",
    "* A lista ordenada decrescente  é :  [365, 201, 100, 95, 45, 9, 2]\n",
    "* A quantidade de trocas é :  21\n",
    "\n",
    "*  Selection Sort  é o mais eficiente em termos de trocas, já que ele minimiza o número de trocas por iteração. O número de trocas é baixo comparado aos outros algoritmos."
   ]
  }
 ],
 "metadata": {
  "kernelspec": {
   "display_name": "Python 3",
   "language": "python",
   "name": "python3"
  },
  "language_info": {
   "codemirror_mode": {
    "name": "ipython",
    "version": 3
   },
   "file_extension": ".py",
   "mimetype": "text/x-python",
   "name": "python",
   "nbconvert_exporter": "python",
   "pygments_lexer": "ipython3",
   "version": "3.12.3"
  }
 },
 "nbformat": 4,
 "nbformat_minor": 2
}
